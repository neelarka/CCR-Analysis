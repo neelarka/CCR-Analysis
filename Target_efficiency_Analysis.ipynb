{
 "cells": [
  {
   "cell_type": "markdown",
   "id": "ae42fadb",
   "metadata": {},
   "source": [
    "### Importing Dependencies"
   ]
  },
  {
   "cell_type": "code",
   "execution_count": 1,
   "id": "77a6a28d",
   "metadata": {},
   "outputs": [
    {
     "name": "stderr",
     "output_type": "stream",
     "text": [
      "C:\\Users\\tinku\\anaconda3\\Lib\\site-packages\\Bio\\pairwise2.py:278: BiopythonDeprecationWarning: Bio.pairwise2 has been deprecated, and we intend to remove it in a future release of Biopython. As an alternative, please consider using Bio.Align.PairwiseAligner as a replacement, and contact the Biopython developers if you still need the Bio.pairwise2 module.\n",
      "  warnings.warn(\n"
     ]
    }
   ],
   "source": [
    "from Bio import pairwise2\n",
    "from Bio.Seq import Seq\n",
    "from Bio.pairwise2 import align\n",
    "from Bio import SeqIO\n",
    "\n",
    "# List of file paths\n",
    "file_paths = [\"test1.extendedFrags.fastq\"]\n",
    "\n",
    "# List to store all reads from all files\n",
    "all_reads = []\n",
    "\n",
    "# Iterate over each file\n",
    "for file_path in file_paths:\n",
    "    # Use SeqIO to read the .fsa file\n",
    "    reads = list(SeqIO.parse(file_path, \"fastq\"))\n",
    "    \n",
    "    # Add the reads to the list of all reads\n",
    "    all_reads.extend(reads)\n",
    "\n",
    "# Now all_reads contains reads from all files"
   ]
  },
  {
   "cell_type": "markdown",
   "id": "59c63f0f",
   "metadata": {},
   "source": [
    "### sw Alignment Algorithm"
   ]
  },
  {
   "cell_type": "code",
   "execution_count": 2,
   "id": "a913b2d1",
   "metadata": {},
   "outputs": [
    {
     "name": "stdout",
     "output_type": "stream",
     "text": [
      "Alignment Score: 29.299999999999997\n",
      "Aligned Sequence 1: -----------------CG--G------------TTGA---TG-TGAT-G-GG-AGGGAT-CTTATAG--A--\n",
      "Aligned Sequence 2: GACATCACCTCCCACAACGACGAAAACCTCCCCATTG-GCCTGCT--TCGTGGCA---ATGC-----GCCACC\n"
     ]
    }
   ],
   "source": [
    "from Bio import pairwise2\n",
    "from Bio.Seq import Seq\n",
    "\n",
    "def perform_swalignment(seq1, seq2):\n",
    "    alignments = pairwise2.align.localms(seq1, seq2, 2, -1, -0.5, -0.1)\n",
    "    \n",
    "    # Extract the first alignment (assuming you want the best one)\n",
    "    best_alignment = alignments[0]\n",
    "    \n",
    "    # Extract the aligned sequences and score\n",
    "    aligned_seq1 = best_alignment.seqA\n",
    "    aligned_seq2 = best_alignment.seqB\n",
    "    alignment_score = best_alignment.score\n",
    "    \n",
    "    return alignment_score, aligned_seq1, aligned_seq2\n",
    "\n",
    "# Example usage\n",
    "seq1 = Seq(\"CGGTTGATGTGATGGGAGGGATCTTATAGA\")\n",
    "seq2 = Seq(\"GACATCACCTCCCACAACGACGAAAACCTCCCCATTGGCCTGCTTCGTGGCAATGCGCCACC\")\n",
    "\n",
    "alignment_score, aligned_seq1, aligned_seq2 = perform_swalignment(seq1, seq2)\n",
    "\n",
    "print(f\"Alignment Score: {alignment_score}\")\n",
    "print(f\"Aligned Sequence 1: {aligned_seq1}\")\n",
    "print(f\"Aligned Sequence 2: {aligned_seq2}\")"
   ]
  },
  {
   "cell_type": "markdown",
   "id": "8ef0be4a",
   "metadata": {},
   "source": [
    "### Filtering sequences based on the onTargets"
   ]
  },
  {
   "cell_type": "code",
   "execution_count": null,
   "id": "d0469d95",
   "metadata": {},
   "outputs": [],
   "source": [
    "from Bio.Seq import Seq\n",
    "\n",
    "# Initialize lists to store sequences\n",
    "Big_Cut_ON = [[] for _ in range(18)]\n",
    "\n",
    "# Your existing code with minor modifications\n",
    "l = len(Big_Cut_Seq1)\n",
    "check_rev = ['GTGGCGCATTGCCACGAAGC',\n",
    " 'ATCACATCAACCGGTGGCGC',\n",
    " 'GCTTCGTGGCAATGCGCCAC',\n",
    " 'TCACATCAACCGGTGGCGCA',\n",
    " 'CCGGTTGATGTGATGGGAGC',\n",
    " 'ATTGGCCTGCTTCGTGGCAA',\n",
    " 'CGAAGCAGGCCAATGGGGAG',\n",
    " 'ATGGGGAGGACATCGATGTC',\n",
    " 'CATTGGCCTGCTTCGTGGCA',\n",
    " 'GTTGATGTGATGGGAGCCCT',\n",
    " 'CCCCATTGGCCTGCTTCGTG',\n",
    " 'GAGTCCGAGCAGAAGAAGAA',\n",
    " 'TTGGCCTGCTTCGTGGCAAT',\n",
    " 'AGCAGAAGAAGAAGGGCTCC',\n",
    " 'TCTTCTTCTGCTCGGACTCA',\n",
    " 'TTCTTCTTCTGCTCGGACTC',\n",
    " 'TCCTCCTCCAGCTTCTGCCG',\n",
    " 'TTCCTCCTCCAGCTTCTGCC']\n",
    "\n",
    "check = ['GCTTCGTGGCAATGCGCCAC',\n",
    " 'GCGCCACCGGTTGATGTGAT',\n",
    " 'GTGGCGCATTGCCACGAAGC',\n",
    " 'TGCGCCACCGGTTGATGTGA',\n",
    " 'GCTCCCATCACATCAACCGG',\n",
    " 'TTGCCACGAAGCAGGCCAAT',\n",
    " 'CTCCCCATTGGCCTGCTTCG',\n",
    " 'GACATCGATGTCCTCCCCAT',\n",
    " 'TGCCACGAAGCAGGCCAATG',\n",
    " 'AGGGCTCCCATCACATCAAC',\n",
    " 'CACGAAGCAGGCCAATGGGG',\n",
    " 'TTCTTCTTCTGCTCGGACTC',\n",
    " 'ATTGCCACGAAGCAGGCCAA',\n",
    " 'GGAGCCCTTCTTCTTCTGCT',\n",
    " 'TGAGTCCGAGCAGAAGAAGA',\n",
    " 'GAGTCCGAGCAGAAGAAGAA',\n",
    " 'CGGCAGAAGCTGGAGGAGGA',\n",
    " 'GGCAGAAGCTGGAGGAGGAA']\n",
    "\n",
    "# Run1\n",
    "fullcheck = 'GTTTTAGAGCTAGAAATAGCAAGTTAAAATAAGGCTAGTCCGTTATCAACTTGAAAAAGTGGCACCGAGTCGGTGCTTTTTTAAACGAGGCGAGTTTACGGGTTGTTA'\n",
    "\n",
    "for i in range(18):\n",
    "    for record in all_reads:\n",
    "        s1 = str(record.seq)\n",
    "        s2 = str(Seq(s1).reverse_complement())\n",
    "        L = len(s1)\n",
    "        if L >= 150 and L < 250:\n",
    "            sc, _, _ = perform_swalignment(Seq(s1[:]), Seq(fullcheck))\n",
    "            print('sc',sc)\n",
    "            sr, _, _ = perform_swalignment(Seq(s2[:]), Seq(fullcheck))\n",
    "            if sr >= 100 and sr > sc:\n",
    "                OF1 = s2.find(check_rev[i]) \n",
    "                if OF1 != -1:\n",
    "                    Big_Cut_ON[i].append(str(Seq(s2).reverse_complement()))\n",
    "            elif sc >= 100:\n",
    "                OF1 = s1.find(check[i]) \n",
    "                if OF1 != -1:\n",
    "                    Big_Cut_ON[i].append(s1) \n",
    "\n",
    "\n",
    "\n",
    "\n"
   ]
  },
  {
   "cell_type": "code",
   "execution_count": null,
   "id": "cf0eed5c",
   "metadata": {},
   "outputs": [],
   "source": [
    "# Print the number of elements for each set\n",
    "for i in range(17):\n",
    "    print(f\"Elements of the input sequences for set {i+1}: {len(Big_Cut_ON[i])}\")"
   ]
  },
  {
   "cell_type": "markdown",
   "id": "63496dfb",
   "metadata": {},
   "source": [
    "### Removing the sequences that are UncUt from the total list for each target"
   ]
  },
  {
   "cell_type": "code",
   "execution_count": null,
   "id": "c122449b",
   "metadata": {},
   "outputs": [],
   "source": [
    "def find_subsets(string):\n",
    "    subsets = []\n",
    "    for i in range(len(string)):\n",
    "        for j in range(i + 1, len(string) + 1):\n",
    "            if j - i >= 10:  # Check if the length of the substring is at least 5\n",
    "                subsets.append(string[i:j])\n",
    "    return subsets\n",
    "\n",
    "# Example usage:\n",
    "subsets = find_subsets('GACATCACCTCCCACAACGA')\n",
    "subsets1 = find_subsets('TCGTTGTGGGAGGTGATGTC')\n",
    "# Find elements of the input sequences that are not substrings of specified length for each set\n",
    "elements_lists = [[] for _ in range(18)]\n",
    "for i in range(17):\n",
    "    for seq in Big_Cut_ON[i]:   \n",
    "        if len(seq) >= 150:\n",
    "            found = False\n",
    "            for sub in subsets:\n",
    "                if sub in seq:\n",
    "                    found = True\n",
    "                    break\n",
    "            if not found:\n",
    "                elements_lists[i].append(seq)\n",
    "                \n",
    "elements_lists1 = [[] for _ in range(18)]\n",
    "for i in range(17):\n",
    "    for seq in elements_lists[i]:   \n",
    "        if len(seq) >= 150:\n",
    "            found = False\n",
    "            for sub in subsets1:\n",
    "                if sub in seq:\n",
    "                    found = True\n",
    "                    break\n",
    "            if not found:\n",
    "                elements_lists1[i].append(seq)\n",
    "\n",
    "# Print the number of elements for each set\n",
    "for i in range(17):\n",
    "    print(f\"Elements of the input sequences for set {i+1}: {len(elements_lists1[i])}\")"
   ]
  },
  {
   "cell_type": "code",
   "execution_count": null,
   "id": "83c310d9",
   "metadata": {},
   "outputs": [],
   "source": [
    "for i in range(17):\n",
    "    # Assuming bigcut_dict is a dictionary containing lists, indexed from 1 to 18\n",
    "    filename = f\"bigcut_list_{i}.txt\"\n",
    "    with open(filename, 'w') as f:\n",
    "        for item in  elements_lists1[i]:\n",
    "            f.write(\"%s\\n\" % item)"
   ]
  },
  {
   "cell_type": "code",
   "execution_count": null,
   "id": "89cc3418",
   "metadata": {},
   "outputs": [],
   "source": [
    "# Loop through 18 text files\n",
    "for i in range(17):\n",
    "    # Open the text file for reading and the corresponding fasta file for writing\n",
    "    with open(f\"bigcut_list_{i}.txt\", \"r\") as fileInput, open(f\"bigcut_list_{i}.fsa\", \"w\") as fileOutput:\n",
    "        # Seq count\n",
    "        count = 1\n",
    "\n",
    "        # Loop through each line in the input file\n",
    "        print(f\"Converting bigcut_list_{i}.txt to FASTA...\")\n",
    "        for strLine in fileInput:\n",
    "            # Strip the endline character from each input line\n",
    "            strLine = strLine.rstrip(\"\\n\")\n",
    "\n",
    "            # Output the header\n",
    "            fileOutput.write(\">\" + str(count) + \"\\n\")\n",
    "            fileOutput.write(strLine + \"\\n\")\n",
    "\n",
    "            count += 1\n",
    "        print(f\"Done converting bigcut_list_{i}.txt to FASTA.\")\n"
   ]
  },
  {
   "cell_type": "code",
   "execution_count": 3,
   "id": "f69cada5",
   "metadata": {},
   "outputs": [
    {
     "data": {
      "image/png": "[encoded data removed]",
      "text/plain": [
       "<Figure size 1000x600 with 1 Axes>"
      ]
     },
     "metadata": {},
     "output_type": "display_data"
    }
   ],
   "source": [
    "import pandas as pd\n",
    "import matplotlib.pyplot as plt\n",
    "import numpy as np\n",
    "\n",
    "# Step 1: Read CSV into DataFrame\n",
    "df = pd.read_csv(\"C:/Users/tinku/OneDrive/Desktop/Final Semester/Research/Emulsion Chapter/EMX_On_OFF/illumina Data/EMX_Data/Data1/Analysis_All_EMX_1.csv\")\n",
    "\n",
    "# Step 2: Sort DataFrame by the column you're plotting\n",
    "df_sorted = df.sort_values(by='Percentage', ascending=False)\n",
    "\n",
    "# Step 3: Calculate percentage of each category\n",
    "count = df_sorted['Percentage']\n",
    "\n",
    "# Step 2: Calculate percentage of each category\n",
    "percentage = df['Percentage'] / 100  # Convert percentage to proportion\n",
    "n = 1000  # Total trials, assuming 1000 here\n",
    "\n",
    "# Step 3: Calculate binomial error bars\n",
    "errors = 1.96 * np.sqrt(percentage * (1 - percentage) / n) * 100  # 95% confidence interval\n",
    "\n",
    "# Step 4: Define colors for each bar\n",
    "colors = plt.cm.viridis(np.linspace(0, 1, len(df_sorted)))  # Using colormap to generate colors\n",
    "\n",
    "# Step 5: Plot the bar graph with different colors\n",
    "plt.figure(figsize=(10, 6))\n",
    "count.plot(kind='bar', yerr=errors, color=colors, capsize=5)\n",
    "plt.title('Percentage cut relative to the Uncut state at the Target sites', pad=20, fontsize='large')\n",
    "plt.xlabel('gRNAs/Targets', fontsize='large')\n",
    "plt.ylabel('Percentage % Cut', fontsize='large')\n",
    "plt.xticks(rotation=45)\n",
    "\n",
    "# Set y-limit from 0 to 15\n",
    "plt.ylim(0, 20)\n",
    "\n",
    "# Set x-labels as the values from the 'Sequence' column\n",
    "plt.gca().set_xticklabels(df_sorted['Sequence'])\n",
    "\n",
    "plt.tight_layout()\n",
    "\n",
    "# Save the plot as an SVG image\n",
    "plt.savefig('Figure3-Ontarget_graph.svg', format='svg', transparent=True)\n",
    "plt.show()\n"
   ]
  },
  {
   "cell_type": "code",
   "execution_count": 4,
   "id": "dc41d3aa",
   "metadata": {},
   "outputs": [
    {
     "data": {
      "image/png": "[encoded data removed]",
      "text/plain": [
       "<Figure size 600x400 with 1 Axes>"
      ]
     },
     "metadata": {},
     "output_type": "display_data"
    }
   ],
   "source": [
    "import pandas as pd\n",
    "import matplotlib.pyplot as plt\n",
    "import numpy as np\n",
    "\n",
    "# Read the CSV file\n",
    "df = pd.read_csv(\"In_vitro_On_target.csv\")\n",
    "\n",
    "# Calculate mean and standard deviation for each guide\n",
    "grouped_data = df.groupby('Sequence')['% Cut'].agg(['mean', 'std'])\n",
    "\n",
    "# Extract mean and standard deviation\n",
    "mean_percentage_cut = grouped_data['mean']\n",
    "std_percentage_cut = grouped_data['std']\n",
    "\n",
    "# Sort guides by mean percentage cut\n",
    "sorted_guides = mean_percentage_cut.sort_values(ascending=False).index\n",
    "\n",
    "# Define colors for each group based on the order of appearance\n",
    "num_groups = len(sorted_guides)\n",
    "colors = plt.cm.viridis(np.linspace(0, 1, num_groups))\n",
    "color_dict = {guide: color for guide, color in zip(sorted_guides, colors)}\n",
    "\n",
    "# Create bar plot with error bars\n",
    "plt.figure(figsize=(6, 4))\n",
    "for i, guide in enumerate(sorted_guides):\n",
    "    plt.bar(i, mean_percentage_cut[guide], yerr=std_percentage_cut[guide], capsize=5, color=color_dict[guide], width=0.4)  # Adjust the width parameter\n",
    "\n",
    "# Manually set x-labels\n",
    "plt.xticks(range(len(sorted_guides)), sorted_guides, rotation=0, ha='center', fontsize=12)  # Set rotation to 0\n",
    "\n",
    "# Remove x-ticks\n",
    "plt.tick_params(axis='x', which='both', bottom=False, top=False)\n",
    "\n",
    "plt.xlabel('gRNAs/Targets', fontsize=12)\n",
    "plt.ylabel('Percentage % Cut', fontsize=12)\n",
    "plt.title('In vitro Cleavage Assay for Top 3 gRNAs/Targets', fontsize=12, pad=20)\n",
    "plt.tight_layout()\n",
    "\n",
    "# Save the plot as an SVG image\n",
    "plt.savefig('Figure3-Ontarget_graph_in_vitro_validation.svg', format='svg', transparent=True)\n",
    "\n",
    "# Show the plot\n",
    "plt.show()\n"
   ]
  },
  {
   "cell_type": "code",
   "execution_count": null,
   "id": "7266411e",
   "metadata": {},
   "outputs": [],
   "source": []
  }
 ],
 "metadata": {
  "kernelspec": {
   "display_name": "Python 3 (ipykernel)",
   "language": "python",
   "name": "python3"
  },
  "language_info": {
   "codemirror_mode": {
    "name": "ipython",
    "version": 3
   },
   "file_extension": ".py",
   "mimetype": "text/x-python",
   "name": "python",
   "nbconvert_exporter": "python",
   "pygments_lexer": "ipython3",
   "version": "3.11.5"
  }
 },
 "nbformat": 4,
 "nbformat_minor": 5
}
